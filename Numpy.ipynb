{
 "cells": [
  {
   "cell_type": "code",
   "execution_count": 2,
   "id": "f8cd7801-85e7-466f-835d-7025cc5b9d39",
   "metadata": {},
   "outputs": [],
   "source": [
    "import numpy as np"
   ]
  },
  {
   "cell_type": "code",
   "execution_count": 5,
   "id": "a0c82bee-8c49-4781-b217-6d2d802a6ef6",
   "metadata": {},
   "outputs": [
    {
     "name": "stdout",
     "output_type": "stream",
     "text": [
      "[1 2 3 4 5 6]\n"
     ]
    }
   ],
   "source": [
    "my_list = [1,2,3,4,5,6]\n",
    "my_array = np.array(my_list)\n",
    "print(my_array)"
   ]
  },
  {
   "cell_type": "code",
   "execution_count": 7,
   "id": "070bfae9-38f8-4e67-b0de-84bdd320058b",
   "metadata": {},
   "outputs": [],
   "source": [
    "my_array = np.array([1,2,3,4,5,6])"
   ]
  },
  {
   "cell_type": "code",
   "execution_count": 9,
   "id": "d65a18d3-c25b-4697-977e-4c5e08fab985",
   "metadata": {},
   "outputs": [
    {
     "name": "stdout",
     "output_type": "stream",
     "text": [
      "[25, 20, 45, 95, 80]\n"
     ]
    }
   ],
   "source": [
    "prices = [30,25,50,100,85]\n",
    "new_prices = [price-5 for price in prices]\n",
    "print(new_prices)"
   ]
  },
  {
   "cell_type": "code",
   "execution_count": 15,
   "id": "44f1e5c1-844a-429a-bfea-2b2423cc54c8",
   "metadata": {},
   "outputs": [
    {
     "name": "stdout",
     "output_type": "stream",
     "text": [
      "[92 94 88 91 87] [ 79 100  86  93  91] [87 85 72 90 92]\n",
      "[89, 87, 74, 92, 94]\n"
     ]
    }
   ],
   "source": [
    "test_1 = np.array([92,94,88,91,87])\n",
    "test_2 = np.array([79,100,86,93,91])\n",
    "test_3 = np.array([87,85,72,90,92])\n",
    "print(test_1,test_2,test_3)\n",
    "test_3_fixed = [score + 2 for score in test_3]\n",
    "print(test_3_fixed)"
   ]
  },
  {
   "cell_type": "code",
   "execution_count": 20,
   "id": "9679b3d3-3d8b-4ccb-b3b7-5665b3e1fd73",
   "metadata": {},
   "outputs": [
    {
     "name": "stdout",
     "output_type": "stream",
     "text": [
      "[260 281 248 276 272]\n"
     ]
    }
   ],
   "source": [
    "total_grade = test_1 + test_2 + test_3_fixed\n",
    "print(total_grade)"
   ]
  },
  {
   "cell_type": "code",
   "execution_count": 21,
   "id": "4d9c75c6-c99e-490a-9692-858b29b1fe0e",
   "metadata": {},
   "outputs": [
    {
     "name": "stdout",
     "output_type": "stream",
     "text": [
      "[86.66666667 93.66666667 82.66666667 92.         90.66666667]\n"
     ]
    }
   ],
   "source": [
    "final_grade = total_grade / 3\n",
    "print(final_grade)"
   ]
  },
  {
   "cell_type": "code",
   "execution_count": 23,
   "id": "7b1f05f0-fac7-4c4e-9936-6d9b4f760d3f",
   "metadata": {},
   "outputs": [
    {
     "name": "stdout",
     "output_type": "stream",
     "text": [
      "93\n"
     ]
    }
   ],
   "source": [
    "jeremy_test_2 = test_2[3]\n",
    "print(jeremy_test_2)"
   ]
  },
  {
   "cell_type": "code",
   "execution_count": 30,
   "id": "af5a7744-b2b9-4316-bb08-2f25ad6e2dc6",
   "metadata": {},
   "outputs": [
    {
     "name": "stdout",
     "output_type": "stream",
     "text": [
      "[94 88]\n"
     ]
    }
   ],
   "source": [
    "manual_adwoa_test_1 = np.array([test_1[1], test_1[2]])\n",
    "print(manual_adwoa_test_1)"
   ]
  },
  {
   "cell_type": "code",
   "execution_count": 33,
   "id": "a9b4a47f-8460-436a-854a-7f721fabf08c",
   "metadata": {},
   "outputs": [
    {
     "name": "stdout",
     "output_type": "stream",
     "text": [
      "[[ 92  94  88  91  87]\n",
      " [ 79 100  86  93  91]\n",
      " [ 87  85  72  90  92]]\n"
     ]
    }
   ],
   "source": [
    "student_scores = np.array([test_1,test_2,test_3])\n",
    "print(student_scores)"
   ]
  },
  {
   "cell_type": "code",
   "execution_count": 36,
   "id": "c3fe590c-6dfd-4830-8b1d-e4ef77dbfeb6",
   "metadata": {},
   "outputs": [
    {
     "data": {
      "text/plain": [
       "87"
      ]
     },
     "execution_count": 36,
     "metadata": {},
     "output_type": "execute_result"
    }
   ],
   "source": [
    "student_scores[2,0]"
   ]
  },
  {
   "cell_type": "code",
   "execution_count": 40,
   "id": "66180da9-41ee-41b7-9379-7d5c7eba406d",
   "metadata": {},
   "outputs": [
    {
     "data": {
      "text/plain": [
       "array([87, 91, 92])"
      ]
     },
     "execution_count": 40,
     "metadata": {},
     "output_type": "execute_result"
    }
   ],
   "source": [
    "student_scores[:,4] # ':' = 모두 선택"
   ]
  },
  {
   "cell_type": "code",
   "execution_count": 42,
   "id": "e0b04951-172a-4bd6-8e47-6a52ab090749",
   "metadata": {},
   "outputs": [
    {
     "name": "stdout",
     "output_type": "stream",
     "text": [
      "[ True False False False False False  True  True  True  True]\n"
     ]
    }
   ],
   "source": [
    "a = np.array([10, 2, 2, 4, 5, 3, 9, 8, 9, 7])\n",
    "mask = a > 5\n",
    "print(mask)"
   ]
  },
  {
   "cell_type": "code",
   "execution_count": 44,
   "id": "1be8ee2f-444f-4b37-bef6-fc2e8444c51b",
   "metadata": {},
   "outputs": [
    {
     "name": "stdout",
     "output_type": "stream",
     "text": [
      "[10  9  8  9  7]\n"
     ]
    }
   ],
   "source": [
    "selected = a[a > 5]\n",
    "print(selected)"
   ]
  },
  {
   "cell_type": "code",
   "execution_count": 46,
   "id": "531eb45b-3248-423a-9593-3de7b9929d6c",
   "metadata": {},
   "outputs": [
    {
     "name": "stdout",
     "output_type": "stream",
     "text": [
      "[10  2  2  9  8  9  7]\n"
     ]
    }
   ],
   "source": [
    "selected = a[(a > 5) | (a < 3)]\n",
    "print(selected)"
   ]
  },
  {
   "cell_type": "code",
   "execution_count": 62,
   "id": "00f017ad-1146-4f75-a922-227d3848d319",
   "metadata": {},
   "outputs": [
    {
     "name": "stdout",
     "output_type": "stream",
     "text": [
      "[79 65 50 63 56 90 85 98 79 51]\n"
     ]
    }
   ],
   "source": [
    "porridge = np.array([79,65,50,63,56,90,85,98,79,51])\n",
    "print(porridge)"
   ]
  },
  {
   "cell_type": "code",
   "execution_count": 63,
   "id": "d27ea7b1-b4a9-43aa-8dca-b9d1ea0503b1",
   "metadata": {},
   "outputs": [
    {
     "name": "stdout",
     "output_type": "stream",
     "text": [
      "[50 56 51]\n"
     ]
    }
   ],
   "source": [
    "cold = porridge[porridge < 60]\n",
    "print(cold)"
   ]
  },
  {
   "cell_type": "code",
   "execution_count": 64,
   "id": "c6c7794b-d086-4ba1-b55a-2b4bb542fbc1",
   "metadata": {},
   "outputs": [
    {
     "name": "stdout",
     "output_type": "stream",
     "text": [
      "[90 85 98]\n"
     ]
    }
   ],
   "source": [
    "hot = porridge[porridge > 80]\n",
    "print(hot)"
   ]
  },
  {
   "cell_type": "code",
   "execution_count": 65,
   "id": "97bd6bd7-20e2-42b5-ab46-e67936fbf5f4",
   "metadata": {},
   "outputs": [
    {
     "name": "stdout",
     "output_type": "stream",
     "text": [
      "[79 65 50 63 56 90 85 98 79 51]\n"
     ]
    }
   ],
   "source": [
    "just_right = porridge[(porridge > 60) | (porridge < 80)]\n",
    "print(just_right)"
   ]
  },
  {
   "cell_type": "code",
   "execution_count": 67,
   "id": "c597eb80-f949-4d65-b74f-5b12f1e85d77",
   "metadata": {},
   "outputs": [
    {
     "data": {
      "text/plain": [
       "array([[16, 38, 26, 33, 71],\n",
       "       [17, 22, 63, 41, 13],\n",
       "       [69, 30, 97, 25, 60]])"
      ]
     },
     "execution_count": 67,
     "metadata": {},
     "output_type": "execute_result"
    }
   ],
   "source": [
    " np.random.randint(100, size=(3, 5))"
   ]
  },
  {
   "cell_type": "code",
   "execution_count": 72,
   "id": "8c0536b1-30f1-4466-bbd9-21f6def79c33",
   "metadata": {},
   "outputs": [
    {
     "data": {
      "text/plain": [
       "array([2, 4, 6])"
      ]
     },
     "execution_count": 72,
     "metadata": {},
     "output_type": "execute_result"
    }
   ],
   "source": [
    "arr = np.arange(10)\n",
    "arr[3:7]# start = 3, stop = 7(stop-1 원소까지 선택)\n",
    "arr[:5]#처음부터\n",
    "arr[5:]# 끝까지\n",
    "arr[2:8:2]"
   ]
  },
  {
   "cell_type": "code",
   "execution_count": 77,
   "id": "5a50fa02-a034-4770-b533-ce1fe5a1be20",
   "metadata": {},
   "outputs": [
    {
     "data": {
      "text/plain": [
       "array([[5, 6, 2],\n",
       "       [7, 9, 4]])"
      ]
     },
     "execution_count": 77,
     "metadata": {},
     "output_type": "execute_result"
    }
   ],
   "source": [
    "arr = np.random.randint(10, size=(6,8))\n",
    "arr[3:5,4:7]"
   ]
  },
  {
   "cell_type": "code",
   "execution_count": 79,
   "id": "22e3e93d-faf0-4e01-a603-f7d4110bc57c",
   "metadata": {},
   "outputs": [
    {
     "data": {
      "text/plain": [
       "array([[0, 1, 2, 3, 4],\n",
       "       [5, 6, 7, 8, 9]])"
      ]
     },
     "execution_count": 79,
     "metadata": {},
     "output_type": "execute_result"
    }
   ],
   "source": [
    "vec = np.arange(10)\n",
    "\n",
    "arr = vec.reshape(2, 5)\n",
    "arr"
   ]
  },
  {
   "cell_type": "code",
   "execution_count": 82,
   "id": "0894725b-764e-41c4-bd75-b21ff96890a6",
   "metadata": {},
   "outputs": [
    {
     "data": {
      "text/plain": [
       "array([[[0, 1, 2, 3, 4],\n",
       "        [5, 6, 7, 8, 9]]])"
      ]
     },
     "execution_count": 82,
     "metadata": {},
     "output_type": "execute_result"
    }
   ],
   "source": [
    "arr_new = arr[np.newaxis, :]\n",
    "arr_new"
   ]
  },
  {
   "cell_type": "code",
   "execution_count": 84,
   "id": "208872a2-5312-4aeb-9548-acef5dbd5a5b",
   "metadata": {},
   "outputs": [
    {
     "data": {
      "text/plain": [
       "array([[[0, 1, 2, 3, 4]],\n",
       "\n",
       "       [[5, 6, 7, 8, 9]]])"
      ]
     },
     "execution_count": 84,
     "metadata": {},
     "output_type": "execute_result"
    }
   ],
   "source": [
    "arr_new = arr[:, np.newaxis]\n",
    "arr_new"
   ]
  },
  {
   "cell_type": "code",
   "execution_count": 92,
   "id": "5114b8cd-c899-4e22-b425-7edba42937d6",
   "metadata": {},
   "outputs": [
    {
     "name": "stdout",
     "output_type": "stream",
     "text": [
      "[0 1 2 3 4 5 6 7 8 9] [10 11 12 13 14 15 16 17 18 19] [20 21 22 23 24 25 26 27 28 29]\n",
      "[ 0  1  2  3  4  5  6  7  8  9 10 11 12 13 14 15 16 17 18 19 20 21 22 23\n",
      " 24 25 26 27 28 29]\n"
     ]
    }
   ],
   "source": [
    "arr_1 = np.arange(10)\n",
    "arr_2 = np.arange(10,20)\n",
    "arr_3 = np.arange(20,30)\n",
    "print(arr_1,arr_2,arr_3)\n",
    "\n",
    "arr_total = np.hstack([arr_1,arr_2,arr_3])\n",
    "print(arr_total)"
   ]
  },
  {
   "cell_type": "code",
   "execution_count": 5,
   "id": "fbc18bc9-a099-49ff-b508-2af647f2768f",
   "metadata": {},
   "outputs": [
    {
     "name": "stdout",
     "output_type": "stream",
     "text": [
      "[0 1 2 3 4]\n"
     ]
    }
   ],
   "source": [
    "a = np.arange(5)\n",
    "print(a)\n"
   ]
  },
  {
   "cell_type": "code",
   "execution_count": 9,
   "id": "dbd607cc-c84c-486c-83e1-07f8069ff134",
   "metadata": {},
   "outputs": [
    {
     "name": "stdout",
     "output_type": "stream",
     "text": [
      "[1 0 7 5 2 0 0 6 8 3]\n"
     ]
    }
   ],
   "source": [
    "x = np.random.randint(10, size=(10))\n",
    "print(x)"
   ]
  },
  {
   "cell_type": "code",
   "execution_count": 11,
   "id": "7d68830c-f319-4873-862f-285b2f51a123",
   "metadata": {},
   "outputs": [
    {
     "data": {
      "text/plain": [
       "array([7, 2, 0])"
      ]
     },
     "execution_count": 11,
     "metadata": {},
     "output_type": "execute_result"
    }
   ],
   "source": [
    "ind = [2,4,6]\n",
    "x[ind]"
   ]
  },
  {
   "cell_type": "code",
   "execution_count": null,
   "id": "63a20bd4-1e74-4f52-93c7-670d9a9f0b13",
   "metadata": {},
   "outputs": [],
   "source": []
  }
 ],
 "metadata": {
  "kernelspec": {
   "display_name": "Python 3",
   "language": "python",
   "name": "python3"
  },
  "language_info": {
   "codemirror_mode": {
    "name": "ipython",
    "version": 3
   },
   "file_extension": ".py",
   "mimetype": "text/x-python",
   "name": "python",
   "nbconvert_exporter": "python",
   "pygments_lexer": "ipython3",
   "version": "3.8.8"
  }
 },
 "nbformat": 4,
 "nbformat_minor": 5
}
